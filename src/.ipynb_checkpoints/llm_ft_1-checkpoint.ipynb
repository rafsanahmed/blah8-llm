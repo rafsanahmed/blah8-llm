{
 "cells": [
  {
   "cell_type": "code",
   "execution_count": 16,
   "id": "fc4a54a9",
   "metadata": {},
   "outputs": [],
   "source": [
    "from datasets import load_dataset, Dataset, DatasetDict\n",
    "import pandas as pd\n",
    "from transformers import Auto"
   ]
  },
  {
   "cell_type": "code",
   "execution_count": 11,
   "id": "1b61989a",
   "metadata": {},
   "outputs": [
    {
     "name": "stderr",
     "output_type": "stream",
     "text": [
      "C:\\Users\\rafsa\\AppData\\Local\\Temp\\ipykernel_20256\\2321868899.py:2: ParserWarning: Falling back to the 'python' engine because the 'c' engine does not support regex separators (separators > 1 char and different from '\\s+' are interpreted as regex); you can avoid this warning by specifying engine='python'.\n",
      "  df = pd.read_csv(qa_infile,sep=\"\\t\\t\", index_col=None, header=None)#, columns=[\"question\", \"answer\"])\n"
     ]
    },
    {
     "data": {
      "text/html": [
       "<div>\n",
       "<style scoped>\n",
       "    .dataframe tbody tr th:only-of-type {\n",
       "        vertical-align: middle;\n",
       "    }\n",
       "\n",
       "    .dataframe tbody tr th {\n",
       "        vertical-align: top;\n",
       "    }\n",
       "\n",
       "    .dataframe thead th {\n",
       "        text-align: right;\n",
       "    }\n",
       "</style>\n",
       "<table border=\"1\" class=\"dataframe\">\n",
       "  <thead>\n",
       "    <tr style=\"text-align: right;\">\n",
       "      <th></th>\n",
       "      <th>question</th>\n",
       "      <th>answer</th>\n",
       "    </tr>\n",
       "  </thead>\n",
       "  <tbody>\n",
       "    <tr>\n",
       "      <th>0</th>\n",
       "      <td>Q: Which drug is suitable for target Fibroblas...</td>\n",
       "      <td>A: Target Fibroblast growth factor receptor 1 ...</td>\n",
       "    </tr>\n",
       "    <tr>\n",
       "      <th>1</th>\n",
       "      <td>Q: Which drug is suitable for target Fibroblas...</td>\n",
       "      <td>A: Target Fibroblast growth factor receptor 1 ...</td>\n",
       "    </tr>\n",
       "    <tr>\n",
       "      <th>2</th>\n",
       "      <td>Q: Which drug is suitable for target Fibroblas...</td>\n",
       "      <td>A: Target Fibroblast growth factor receptor 1 ...</td>\n",
       "    </tr>\n",
       "    <tr>\n",
       "      <th>3</th>\n",
       "      <td>Q: Which drug is suitable for target Fibroblas...</td>\n",
       "      <td>A: Target Fibroblast growth factor receptor 1 ...</td>\n",
       "    </tr>\n",
       "    <tr>\n",
       "      <th>4</th>\n",
       "      <td>Q: Which drug is suitable for target Fibroblas...</td>\n",
       "      <td>A: Target Fibroblast growth factor receptor 1 ...</td>\n",
       "    </tr>\n",
       "    <tr>\n",
       "      <th>...</th>\n",
       "      <td>...</td>\n",
       "      <td>...</td>\n",
       "    </tr>\n",
       "    <tr>\n",
       "      <th>44426</th>\n",
       "      <td>Q: Which drug is suitable for target Food inta...</td>\n",
       "      <td>A: Target Food intake (FI) is druggable by HMR...</td>\n",
       "    </tr>\n",
       "    <tr>\n",
       "      <th>44427</th>\n",
       "      <td>Q: Which drug is suitable for target Histone s...</td>\n",
       "      <td>A: Target Histone synthesis (Histone synth) is...</td>\n",
       "    </tr>\n",
       "    <tr>\n",
       "      <th>44428</th>\n",
       "      <td>Q: Which drug is suitable for target Mitochond...</td>\n",
       "      <td>A: Target Mitochondrial gene transcription (MG...</td>\n",
       "    </tr>\n",
       "    <tr>\n",
       "      <th>44429</th>\n",
       "      <td>Q: Which drug is suitable for target P450-depe...</td>\n",
       "      <td>A: Target P450-dependent ergosterol synthesis ...</td>\n",
       "    </tr>\n",
       "    <tr>\n",
       "      <th>44430</th>\n",
       "      <td>Q: Which drug is suitable for target Polymorph...</td>\n",
       "      <td>A: Target Polymorphonuclear neutrophil adhesio...</td>\n",
       "    </tr>\n",
       "  </tbody>\n",
       "</table>\n",
       "<p>44431 rows × 2 columns</p>\n",
       "</div>"
      ],
      "text/plain": [
       "                                                question                                             answer\n",
       "0      Q: Which drug is suitable for target Fibroblas...  A: Target Fibroblast growth factor receptor 1 ...\n",
       "1      Q: Which drug is suitable for target Fibroblas...  A: Target Fibroblast growth factor receptor 1 ...\n",
       "2      Q: Which drug is suitable for target Fibroblas...  A: Target Fibroblast growth factor receptor 1 ...\n",
       "3      Q: Which drug is suitable for target Fibroblas...  A: Target Fibroblast growth factor receptor 1 ...\n",
       "4      Q: Which drug is suitable for target Fibroblas...  A: Target Fibroblast growth factor receptor 1 ...\n",
       "...                                                  ...                                                ...\n",
       "44426  Q: Which drug is suitable for target Food inta...  A: Target Food intake (FI) is druggable by HMR...\n",
       "44427  Q: Which drug is suitable for target Histone s...  A: Target Histone synthesis (Histone synth) is...\n",
       "44428  Q: Which drug is suitable for target Mitochond...  A: Target Mitochondrial gene transcription (MG...\n",
       "44429  Q: Which drug is suitable for target P450-depe...  A: Target P450-dependent ergosterol synthesis ...\n",
       "44430  Q: Which drug is suitable for target Polymorph...  A: Target Polymorphonuclear neutrophil adhesio...\n",
       "\n",
       "[44431 rows x 2 columns]"
      ]
     },
     "execution_count": 11,
     "metadata": {},
     "output_type": "execute_result"
    }
   ],
   "source": [
    "qa_infile = \"../res/prompt_db_target_drug_function_qa.txt\"\n",
    "df = pd.read_csv(qa_infile,sep=\"\\t\\t\", index_col=None, header=None)#, columns=[\"question\", \"answer\"])\n",
    "df.columns = [\"question\", \"answer\"]\n",
    "df"
   ]
  },
  {
   "cell_type": "code",
   "execution_count": 17,
   "id": "c2722980",
   "metadata": {},
   "outputs": [
    {
     "data": {
      "text/plain": [
       "Dataset({\n",
       "    features: ['question', 'answer'],\n",
       "    num_rows: 44431\n",
       "})"
      ]
     },
     "execution_count": 17,
     "metadata": {},
     "output_type": "execute_result"
    }
   ],
   "source": [
    "ds_raw = Dataset.from_pandas(df)\n",
    "ds_raw"
   ]
  },
  {
   "cell_type": "code",
   "execution_count": 18,
   "id": "e82cd961",
   "metadata": {},
   "outputs": [
    {
     "data": {
      "text/plain": [
       "DatasetDict({\n",
       "    train: Dataset({\n",
       "        features: ['question', 'answer'],\n",
       "        num_rows: 35544\n",
       "    })\n",
       "    test: Dataset({\n",
       "        features: ['question', 'answer'],\n",
       "        num_rows: 4444\n",
       "    })\n",
       "    valid: Dataset({\n",
       "        features: ['question', 'answer'],\n",
       "        num_rows: 4443\n",
       "    })\n",
       "})"
      ]
     },
     "execution_count": 18,
     "metadata": {},
     "output_type": "execute_result"
    }
   ],
   "source": [
    "traintestvalid = ds_raw.train_test_split(test_size=0.2)\n",
    "testvalid = traintestvalid[\"test\"].train_test_split(test_size=0.5)\n",
    "ds = DatasetDict({\n",
    "    'train': traintestvalid['train'],\n",
    "    'test': testvalid['test'],\n",
    "    'valid': testvalid['train']})\n",
    "ds\n"
   ]
  },
  {
   "cell_type": "code",
   "execution_count": null,
   "id": "ce3cb099",
   "metadata": {},
   "outputs": [],
   "source": []
  }
 ],
 "metadata": {
  "kernelspec": {
   "display_name": "Python 3 (ipykernel)",
   "language": "python",
   "name": "python3"
  },
  "language_info": {
   "codemirror_mode": {
    "name": "ipython",
    "version": 3
   },
   "file_extension": ".py",
   "mimetype": "text/x-python",
   "name": "python",
   "nbconvert_exporter": "python",
   "pygments_lexer": "ipython3",
   "version": "3.10.13"
  }
 },
 "nbformat": 4,
 "nbformat_minor": 5
}
